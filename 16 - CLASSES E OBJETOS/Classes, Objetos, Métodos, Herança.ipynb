{
 "cells": [
  {
   "cell_type": "code",
   "execution_count": 10,
   "id": "2ae5bc43",
   "metadata": {},
   "outputs": [],
   "source": [
    "# Função simples, que recebe duas variáveis\n",
    "def teste(v, i):\n",
    "    valor = v\n",
    "    incremento = i\n",
    "    resultado = valor + incremento\n",
    "    return resultado"
   ]
  },
  {
   "cell_type": "code",
   "execution_count": 11,
   "id": "25b5bc05",
   "metadata": {},
   "outputs": [],
   "source": [
    "a = teste(10, 1)"
   ]
  },
  {
   "cell_type": "code",
   "execution_count": 12,
   "id": "90a44de0",
   "metadata": {},
   "outputs": [
    {
     "data": {
      "text/plain": [
       "11"
      ]
     },
     "execution_count": 12,
     "metadata": {},
     "output_type": "execute_result"
    }
   ],
   "source": [
    "a"
   ]
  },
  {
   "cell_type": "code",
   "execution_count": 26,
   "id": "2843f653",
   "metadata": {},
   "outputs": [],
   "source": [
    "# Classe e método que recebe duas variáveis\n",
    "class Estudodeclasses:\n",
    "    def incrementa(self,v, i):\n",
    "        valor = v\n",
    "        incremento = i\n",
    "        resultado = valor + incremento\n",
    "        return resultado"
   ]
  },
  {
   "cell_type": "code",
   "execution_count": 27,
   "id": "3907f9f0",
   "metadata": {},
   "outputs": [],
   "source": [
    "a = Estudodeclasses()"
   ]
  },
  {
   "cell_type": "code",
   "execution_count": 28,
   "id": "38511b37",
   "metadata": {},
   "outputs": [],
   "source": [
    "b = a.incrementa(10, 1)"
   ]
  },
  {
   "cell_type": "code",
   "execution_count": 29,
   "id": "7daa6d4e",
   "metadata": {},
   "outputs": [
    {
     "data": {
      "text/plain": [
       "11"
      ]
     },
     "execution_count": 29,
     "metadata": {},
     "output_type": "execute_result"
    }
   ],
   "source": [
    "b"
   ]
  },
  {
   "cell_type": "code",
   "execution_count": 35,
   "id": "acc9d5c6",
   "metadata": {},
   "outputs": [],
   "source": [
    "# Classes e métodos que podem ser acessados porque adicionei o SELF, que remete ao objeto\n",
    "class Estudodeclasses:\n",
    "    def incrementa(self,v, i):\n",
    "        self.valor = v\n",
    "        self.incremento = i\n",
    "        self.resultado = self.valor + self.incremento\n",
    "        return self.resultado"
   ]
  },
  {
   "cell_type": "code",
   "execution_count": 36,
   "id": "8f35ca64",
   "metadata": {},
   "outputs": [],
   "source": [
    "a = Estudodeclasses()"
   ]
  },
  {
   "cell_type": "code",
   "execution_count": 37,
   "id": "c6ebd19b",
   "metadata": {},
   "outputs": [],
   "source": [
    "b = a.incrementa(10, 1)"
   ]
  },
  {
   "cell_type": "code",
   "execution_count": 42,
   "id": "049dd788",
   "metadata": {},
   "outputs": [
    {
     "data": {
      "text/plain": [
       "11"
      ]
     },
     "execution_count": 42,
     "metadata": {},
     "output_type": "execute_result"
    }
   ],
   "source": [
    "b"
   ]
  },
  {
   "cell_type": "code",
   "execution_count": 43,
   "id": "62f1fe67",
   "metadata": {},
   "outputs": [],
   "source": [
    "# Criando o construtor e inicializando as varíaveis para o objeto\n",
    "class Estudodeclasses:\n",
    "    def __init__(self,v,i):\n",
    "        self.valor = v\n",
    "        self.incremento = i\n",
    "    def incrementa(self):\n",
    "        self.valor = self.valor + self.incremento"
   ]
  },
  {
   "cell_type": "code",
   "execution_count": 45,
   "id": "25f756a2",
   "metadata": {},
   "outputs": [],
   "source": [
    "a = Estudodeclasses(10,1)"
   ]
  },
  {
   "cell_type": "code",
   "execution_count": 47,
   "id": "b04ffa88",
   "metadata": {},
   "outputs": [
    {
     "data": {
      "text/plain": [
       "1"
      ]
     },
     "execution_count": 47,
     "metadata": {},
     "output_type": "execute_result"
    }
   ],
   "source": [
    "a.incremento"
   ]
  },
  {
   "cell_type": "code",
   "execution_count": 48,
   "id": "22691dc4",
   "metadata": {},
   "outputs": [
    {
     "data": {
      "text/plain": [
       "10"
      ]
     },
     "execution_count": 48,
     "metadata": {},
     "output_type": "execute_result"
    }
   ],
   "source": [
    "a.valor"
   ]
  },
  {
   "cell_type": "code",
   "execution_count": 50,
   "id": "d7e92a77",
   "metadata": {},
   "outputs": [],
   "source": [
    "a.incrementa()"
   ]
  },
  {
   "cell_type": "code",
   "execution_count": 51,
   "id": "d7acb235",
   "metadata": {},
   "outputs": [
    {
     "data": {
      "text/plain": [
       "11"
      ]
     },
     "execution_count": 51,
     "metadata": {},
     "output_type": "execute_result"
    }
   ],
   "source": [
    "a.valor"
   ]
  },
  {
   "cell_type": "code",
   "execution_count": 54,
   "id": "7c73132c",
   "metadata": {},
   "outputs": [],
   "source": [
    "# Classes, métodos, criando uma lógica para a classe \n",
    "class Estudodeclasses:\n",
    "    def __init__(self,v=10,i=1):\n",
    "        self.valor = v\n",
    "        self.incremento = i\n",
    "        self.valor_exponencial = v\n",
    "    def incrementa(self):\n",
    "        self.valor = self.valor + self.incremento\n",
    "    def verificar(self):\n",
    "        if self.valor > 12:\n",
    "            print('Ultrapassou 12')\n",
    "        else:\n",
    "            print('Não ultrapassou 12')\n",
    "    def exponencial(self,e):\n",
    "        self.valor_exponencial = self.valor ** e\n",
    "    def incrementa_quadrado(self):\n",
    "        self.incrementa()\n",
    "        self.exponencial(2)"
   ]
  },
  {
   "cell_type": "code",
   "execution_count": 55,
   "id": "b414b2fb",
   "metadata": {},
   "outputs": [],
   "source": [
    "a = Estudodeclasses()"
   ]
  },
  {
   "cell_type": "code",
   "execution_count": 56,
   "id": "1482e985",
   "metadata": {},
   "outputs": [
    {
     "data": {
      "text/plain": [
       "10"
      ]
     },
     "execution_count": 56,
     "metadata": {},
     "output_type": "execute_result"
    }
   ],
   "source": [
    "a.valor_exponencial"
   ]
  },
  {
   "cell_type": "code",
   "execution_count": 57,
   "id": "00800299",
   "metadata": {},
   "outputs": [
    {
     "data": {
      "text/plain": [
       "<bound method Estudodeclasses.exponencial of <__main__.Estudodeclasses object at 0x0000020057118CA0>>"
      ]
     },
     "execution_count": 57,
     "metadata": {},
     "output_type": "execute_result"
    }
   ],
   "source": [
    "a.exponencial"
   ]
  },
  {
   "cell_type": "code",
   "execution_count": 58,
   "id": "61b046a1",
   "metadata": {},
   "outputs": [
    {
     "data": {
      "text/plain": [
       "<bound method Estudodeclasses.verificar of <__main__.Estudodeclasses object at 0x0000020057118CA0>>"
      ]
     },
     "execution_count": 58,
     "metadata": {},
     "output_type": "execute_result"
    }
   ],
   "source": [
    "a.verificar"
   ]
  },
  {
   "cell_type": "code",
   "execution_count": 59,
   "id": "588e16bc",
   "metadata": {},
   "outputs": [
    {
     "name": "stdout",
     "output_type": "stream",
     "text": [
      "Não ultrapassou 12\n"
     ]
    }
   ],
   "source": [
    "a.verificar()"
   ]
  },
  {
   "cell_type": "code",
   "execution_count": 60,
   "id": "0db1d575",
   "metadata": {},
   "outputs": [],
   "source": [
    "# Herança = Herdando de outra classe\n",
    "class Calculos(Estudodeclasses):\n",
    "    pass"
   ]
  },
  {
   "cell_type": "code",
   "execution_count": 61,
   "id": "234f423e",
   "metadata": {},
   "outputs": [],
   "source": [
    "c = Calculos()"
   ]
  },
  {
   "cell_type": "code",
   "execution_count": 63,
   "id": "3fbff34f",
   "metadata": {},
   "outputs": [],
   "source": [
    "c.incrementa()"
   ]
  },
  {
   "cell_type": "code",
   "execution_count": 64,
   "id": "73a17e6f",
   "metadata": {},
   "outputs": [
    {
     "data": {
      "text/plain": [
       "11"
      ]
     },
     "execution_count": 64,
     "metadata": {},
     "output_type": "execute_result"
    }
   ],
   "source": [
    "c.valor"
   ]
  },
  {
   "cell_type": "code",
   "execution_count": 66,
   "id": "1ef63bbf",
   "metadata": {},
   "outputs": [],
   "source": [
    "# Adicionando um novo método\n",
    "class Calculos(Estudodeclasses):\n",
    "    def decrementa(self):\n",
    "        self.valor = self.valor - self.incremento"
   ]
  },
  {
   "cell_type": "code",
   "execution_count": 67,
   "id": "c893b50a",
   "metadata": {},
   "outputs": [],
   "source": [
    "c = Calculos()"
   ]
  },
  {
   "cell_type": "code",
   "execution_count": 68,
   "id": "17142fa4",
   "metadata": {},
   "outputs": [
    {
     "data": {
      "text/plain": [
       "10"
      ]
     },
     "execution_count": 68,
     "metadata": {},
     "output_type": "execute_result"
    }
   ],
   "source": [
    "c.valor"
   ]
  },
  {
   "cell_type": "code",
   "execution_count": 69,
   "id": "aac9020b",
   "metadata": {},
   "outputs": [],
   "source": [
    "c.decrementa()"
   ]
  },
  {
   "cell_type": "code",
   "execution_count": 70,
   "id": "7c887318",
   "metadata": {},
   "outputs": [
    {
     "data": {
      "text/plain": [
       "9"
      ]
     },
     "execution_count": 70,
     "metadata": {},
     "output_type": "execute_result"
    }
   ],
   "source": [
    "c.valor"
   ]
  },
  {
   "cell_type": "code",
   "execution_count": 71,
   "id": "1c097b92",
   "metadata": {},
   "outputs": [],
   "source": [
    "# Adicionando um novo construtor e inicializando as varíaveis \n",
    "class Calculos(Estudodeclasses):\n",
    "    def __init__(self, d=5):\n",
    "        self.divisor = d\n",
    "    def decrementa(self):\n",
    "        self.valor = self.valor - self.incremento\n",
    "    def divide(self):\n",
    "        self.valor = self.valor/self.divisor"
   ]
  },
  {
   "cell_type": "code",
   "execution_count": 72,
   "id": "56334221",
   "metadata": {},
   "outputs": [],
   "source": [
    "c = Calculos()"
   ]
  },
  {
   "cell_type": "code",
   "execution_count": 78,
   "id": "a909a12f",
   "metadata": {},
   "outputs": [],
   "source": [
    "# Método Super() para adicionar novos métodos porque reniciei o construtor.  \n",
    "class Calculos(Estudodeclasses):\n",
    "    def __init__(self, d=5):\n",
    "        super().__init__(v=10,i=1)\n",
    "        self.divisor = d\n",
    "    def decrementa(self):\n",
    "        self.valor = self.valor - self.incremento\n",
    "    def divide(self):\n",
    "        self.valor = self.valor/self.divisor"
   ]
  },
  {
   "cell_type": "code",
   "execution_count": 79,
   "id": "0230cf76",
   "metadata": {},
   "outputs": [],
   "source": [
    "c = Calculos()"
   ]
  },
  {
   "cell_type": "code",
   "execution_count": 80,
   "id": "3900796d",
   "metadata": {},
   "outputs": [
    {
     "name": "stdout",
     "output_type": "stream",
     "text": [
      "Não ultrapassou 12\n"
     ]
    }
   ],
   "source": [
    "c.verificar()"
   ]
  },
  {
   "cell_type": "code",
   "execution_count": null,
   "id": "9f3c2191",
   "metadata": {},
   "outputs": [],
   "source": []
  }
 ],
 "metadata": {
  "kernelspec": {
   "display_name": "Python 3.9.7 64-bit ('base': conda)",
   "language": "python",
   "name": "python397jvsc74a57bd0b2e4510b7017812cdfafc63a823232b40686eff34486759b8b3cac5da40b4036"
  },
  "language_info": {
   "codemirror_mode": {
    "name": "ipython",
    "version": 3
   },
   "file_extension": ".py",
   "mimetype": "text/x-python",
   "name": "python",
   "nbconvert_exporter": "python",
   "pygments_lexer": "ipython3",
   "version": "3.9.7"
  }
 },
 "nbformat": 4,
 "nbformat_minor": 5
}
